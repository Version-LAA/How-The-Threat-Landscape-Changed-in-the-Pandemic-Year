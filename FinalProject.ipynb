{
 "cells": [
  {
   "cell_type": "markdown",
   "metadata": {},
   "source": [
    "# How The Threat Landscape Changed in the Pandemic Year \n",
    "\n",
    "The purpose of this analysis is to analyze malicious domains submitted to url.abuse[.]ch for the year range of 2019 to 2020. The URL Haus project is an amazing resource used by security practicioners of all kinds to help share and provide insight into malicious urls discovered. The URLhaus project is created and managed by abuse[.]ch, a non profit security reasearcher that manages several additional projects to provide situational awareness and information to aid in internet security against malware.\n",
    "\n",
    "**The goal of this analysis is to answer the following:**\n",
    "\n",
    "- What type of malware is more prominant in the year of the pandemic vs the previous year\n",
    "- Which tld is most seen this year related to malicious threats\n",
    "- Based on analysis are there any specifc hunts organization can perform to identify traffic going to risky domains.\n",
    "- Based on analysis are there any detections organizations can put in place to \n",
    "\n",
    "**Analysis Breakdown**\n",
    "- Data Exploration \n",
    "- Data Cleaning\n",
    "- Analysis \n",
    "- Reporting and Visualization"
   ]
  },
  {
   "cell_type": "code",
   "execution_count": 7,
   "metadata": {},
   "outputs": [
    {
     "name": "stdout",
     "output_type": "stream",
     "text": [
      "[['################################################################'], ['# abuse.ch URLhaus Database Dump (CSV)                         #'], ['# Last updated: 2020-12-29 15:44:07 (UTC)                      #'], ['#                                                              #'], ['# Terms Of Use: https://urlhaus.abuse.ch/api/                  #'], ['# For questions please contact urlhaus [at] abuse.ch           #'], ['################################################################'], ['#'], ['# id', 'dateadded', 'url', 'url_status', 'threat', 'tags', 'urlhaus_link', 'reporter'], ['944671', '2020-12-29 15:44:07', 'http://gbimkd.org/wp-includes/mzYzedwYUHNvfwTTy47Ey0o5tKUyazH0oXIs/', 'online', 'malware_download', 'doc,emotet,epoch2', 'https://urlhaus.abuse.ch/url/944671/', 'Cryptolaemus1']]\n"
     ]
    }
   ],
   "source": [
    "import pandas as pd\n",
    "from csv import reader\n",
    "\n",
    "#Data Exploration in prep for data cleaning. Converting items in list to quickly asses what the data looks like.\n",
    "\n",
    "\n",
    "of = open(\"csv.txt\")\n",
    "rf = reader(of)\n",
    "data = list(rf)\n",
    "\n",
    "print(data[:10])\n",
    "\n",
    "\n",
    "# Data preview of first 10 rows show some header data prior to columns. Will need to skip those rows prior to cleaning.\n"
   ]
  },
  {
   "cell_type": "code",
   "execution_count": 8,
   "metadata": {},
   "outputs": [
    {
     "name": "stdout",
     "output_type": "stream",
     "text": [
      "<class 'pandas.core.frame.DataFrame'>\n",
      "RangeIndex: 931755 entries, 0 to 931754\n",
      "Data columns (total 8 columns):\n",
      " #   Column        Non-Null Count   Dtype \n",
      "---  ------        --------------   ----- \n",
      " 0   # id          931755 non-null  int64 \n",
      " 1   dateadded     931755 non-null  object\n",
      " 2   url           931755 non-null  object\n",
      " 3   url_status    931755 non-null  object\n",
      " 4   threat        931698 non-null  object\n",
      " 5   tags          931755 non-null  object\n",
      " 6   urlhaus_link  931755 non-null  object\n",
      " 7   reporter      931755 non-null  object\n",
      "dtypes: int64(1), object(7)\n",
      "memory usage: 56.9+ MB\n",
      "None \n",
      "\n"
     ]
    }
   ],
   "source": [
    "#Creating a dataframe , but will be skipping first 8 rows of header data.\n",
    "\n",
    "urls = pd.read_csv(\"csv.txt\",skiprows=8)\n",
    "\n",
    "columns= urls.columns\n",
    "\n",
    "print(urls.info(),\"\\n\")\n",
    "\n"
   ]
  },
  {
   "cell_type": "markdown",
   "metadata": {},
   "source": [
    "## Data Exploration and Data Cleaning \n",
    "\n",
    "- Dataframe created successfully, identifying over 900,000 entries. \n",
    "- Datacleaning steps:\n",
    " 1. Clean up columns to make them easier to work with\n",
    " 2. Create a new column for year based on dateadded column\n",
    " 3. Create a new column for month based on date added column\n",
    " 4. Identify null values\n",
    " 5. Create a new column for domain bsed or url\n",
    " "
   ]
  },
  {
   "cell_type": "code",
   "execution_count": 9,
   "metadata": {},
   "outputs": [
    {
     "name": "stdout",
     "output_type": "stream",
     "text": [
      "old columns \n",
      " Index(['# id', 'dateadded', 'url', 'url_status', 'threat', 'tags',\n",
      "       'urlhaus_link', 'reporter'],\n",
      "      dtype='object') \n",
      "\n",
      "new columns \n",
      " Index(['id', 'date_added', 'url', 'url_status', 'threat', 'tags',\n",
      "       'urlhaus_link', 'reporter'],\n",
      "      dtype='object') \n",
      "\n",
      "data preview: \n",
      "        id           date_added  \\\n",
      "0  944671  2020-12-29 15:44:07   \n",
      "1  944670  2020-12-29 15:44:05   \n",
      "\n",
      "                                                 url url_status  \\\n",
      "0  http://gbimkd.org/wp-includes/mzYzedwYUHNvfwTT...     online   \n",
      "1                       http://116.124.219.2:55737/i     online   \n",
      "\n",
      "             threat               tags                          urlhaus_link  \\\n",
      "0  malware_download  doc,emotet,epoch2  https://urlhaus.abuse.ch/url/944671/   \n",
      "1  malware_download     32-bit,arm,elf  https://urlhaus.abuse.ch/url/944670/   \n",
      "\n",
      "        reporter  \n",
      "0  Cryptolaemus1  \n",
      "1       geenensp  \n"
     ]
    }
   ],
   "source": [
    "#loop through column headers to make naming convention more consistent\n",
    "\n",
    "columns = urls.columns\n",
    "\n",
    "print(\"old columns\",\"\\n\", columns,\"\\n\")\n",
    "\n",
    "new_columns = []\n",
    "\n",
    "for c in columns:\n",
    "    new = c\n",
    "    if c == \"# id\":\n",
    "        new = \"id\"\n",
    "        new_columns.append(new)\n",
    "    elif c ==\"dateadded\":\n",
    "        new = \"date_added\"\n",
    "        new_columns.append(new)\n",
    "        \n",
    "    else:\n",
    "        new_columns.append(new)\n",
    "        \n",
    "urls.columns = new_columns\n",
    "\n",
    "\n",
    "        \n",
    "print(\"new columns\", \"\\n\",urls.columns,\"\\n\")\n",
    "\n",
    "\n",
    "print(\"data preview: \\n\",urls.head(2))\n"
   ]
  },
  {
   "cell_type": "markdown",
   "metadata": {},
   "source": [
    "### Parsing date_added column and creating seperate columns for year and month\n",
    "\n"
   ]
  },
  {
   "cell_type": "code",
   "execution_count": 10,
   "metadata": {},
   "outputs": [],
   "source": [
    "import datetime \n",
    "\n",
    "urls[\"date_added\"] = pd.to_datetime(urls[\"date_added\"])\n",
    "\n",
    "urls[\"year\"] = urls[\"date_added\"].dt.year\n",
    "urls[\"month\"] = urls[\"date_added\"].dt.strftime(\"%b\")"
   ]
  },
  {
   "cell_type": "code",
   "execution_count": 11,
   "metadata": {},
   "outputs": [
    {
     "name": "stdout",
     "output_type": "stream",
     "text": [
      "count     931755\n",
      "unique        12\n",
      "top          Sep\n",
      "freq      202906\n",
      "Name: month, dtype: object\n",
      "count    931755.000000\n",
      "mean       2019.608268\n",
      "std           0.663945\n",
      "min        2018.000000\n",
      "25%        2019.000000\n",
      "50%        2020.000000\n",
      "75%        2020.000000\n",
      "max        2020.000000\n",
      "Name: year, dtype: float64\n"
     ]
    }
   ],
   "source": [
    "print(urls[\"month\"].describe())\n",
    "\n",
    "print(urls[\"year\"].describe())\n"
   ]
  },
  {
   "cell_type": "markdown",
   "metadata": {},
   "source": [
    "### Parsing url column to extract domain\n",
    "\n",
    "- Data contained in URL column is a mixture of hardcoded IP's and fqdn's\n",
    "- Will create a new column named domain_request:\n",
    " 1. For rows where the URL is an IP address, I will indicate \"IP\" as domain_request\n",
    " 2. Fore rows where the URL is a fqdn, I will extract only the tld and append in the column.\n",
    "\n",
    "- I will use the following data cleaning workflow process\n",
    " 1. Explore the data in the column\n",
    " 2. Identify patterns and special cases\n",
    " 3. Remove non applicable characters\n",
    " 4. Perform any data type conversions necessary\n",
    " 5. Rename column or create new column if required.\n",
    " \n",
    "I've previewed the strings below and split them based on the forward slash delimeter as that is is a consisten pattern seen in all url request. i.e. http[s]://[hostname/ip]/[path]\n",
    "\n",
    "\n"
   ]
  },
  {
   "cell_type": "code",
   "execution_count": 12,
   "metadata": {},
   "outputs": [
    {
     "name": "stdout",
     "output_type": "stream",
     "text": [
      "0     [http:, , gbimkd.org, wp-includes, mzYzedwYUHN...\n",
      "1                     [http:, , 116.124.219.2:55737, i]\n",
      "2     [http:, , www.ticketshd.com, wp-content, FUfYN...\n",
      "3     [http:, , thefiercevagabond.com, cgi-bin, Ebob...\n",
      "4     [http:, , 175.10.51.6:57578, Mozi.a;chmod+777+...\n",
      "5     [https:, , www.hintup.com.br, wp-content, FE9Q...\n",
      "6     [http:, , ondigital.one, wp-admin, up9pp9KLyef...\n",
      "7     [https:, , hdgarden.vn, wp-includes, aZBWciJOr...\n",
      "8                     [http:, , 115.56.159.28:57022, i]\n",
      "9     [https:, , www.lixko.com, wp-includes, LEq9VJd, ]\n",
      "10    [https:, , surfboarddigital.com, carol-stream-...\n",
      "11             [https:, , srishtiherbs.com, jms, bq8, ]\n",
      "12         [https:, , unikaryapools.com, wp, ysFiRq1, ]\n",
      "13                  [http:, , 207.254.247.210:49250, i]\n",
      "14                   [http:, , 120.57.103.125:55379, i]\n",
      "15        [https:, , technicalashish.in, wp-admin, M, ]\n",
      "16    [http:, , thespaceastronauts.com, wp-content, ...\n",
      "17        [http:, , sanghuangvip.com, wp-admin, 7ezn, ]\n",
      "18               [http:, , 117.242.211.7:40745, bin.sh]\n",
      "19    [http:, , nasabatam.bbtbatam.com, wp-admin, Qw...\n",
      "20      [https:, , ilmeteo.dev.keyformat.it, tpl, GB, ]\n",
      "21    [https:, , www.scooterinsurance.co.uk, wp-incl...\n",
      "22    [http:, , 4k-iptv.eu, joinery-companies-hz4lm,...\n",
      "23    [http:, , 4lifedashka.com, wp-admin, HYc85QxIr...\n",
      "24               [http:, , 116.124.219.2:55737, bin.sh]\n",
      "25    [http:, , g2sportstech.com, wp-content, 4RELhj...\n",
      "26    [http:, , www.casadeculturazazu.com.br, wp-con...\n",
      "27                    [http:, , 222.141.22.29:43435, i]\n",
      "28              [http:, , 103.217.123.86:46620, Mozi.m]\n",
      "29                [http:, , 103.41.25.51:43784, Mozi.m]\n",
      "Name: url, dtype: object\n"
     ]
    }
   ],
   "source": [
    "print(urls[\"url\"].str.split(\"/\").head(30))"
   ]
  },
  {
   "cell_type": "markdown",
   "metadata": {},
   "source": [
    "Based on the preview of data above, the hostname/ip is located at index 2.\n",
    "\n",
    "- I will exstract the domain/ip and place in a newly created column named host"
   ]
  },
  {
   "cell_type": "code",
   "execution_count": 13,
   "metadata": {},
   "outputs": [
    {
     "name": "stdout",
     "output_type": "stream",
     "text": [
      "0               gbimkd.org\n",
      "1      116.124.219.2:55737\n",
      "2        www.ticketshd.com\n",
      "3    thefiercevagabond.com\n",
      "4        175.10.51.6:57578\n",
      "5        www.hintup.com.br\n",
      "6            ondigital.one\n",
      "7              hdgarden.vn\n",
      "8      115.56.159.28:57022\n",
      "9            www.lixko.com\n",
      "Name: host, dtype: object\n"
     ]
    }
   ],
   "source": [
    "urls[\"host\"]= urls[\"url\"].str.split(\"/\").str[2]\n",
    "\n",
    "print(urls[\"host\"].head(10))"
   ]
  },
  {
   "cell_type": "markdown",
   "metadata": {},
   "source": [
    "Some additional parsing will need to be completed to isolate the TLD.In the following section I will create an addition new column named tld. To accomplish this, I will need to do the following:\n",
    "- Perform another split on the coloumn, but this split will be based on the \".\" dellimeter.\n",
    "- I will append the last item in the index to the tld column\n",
    "- Some challenges with the data and observations are\n",
    " 1. some domains have two tld appended i.e. .org.com\n",
    " 2. request to IP addresses also include port value.\n",
    " \n",
    "- I will create a test dataframe with a subset of data. For fields that contain\":\", I will indicate that as an IP, for all others, I will simply take the last domain listed.\n"
   ]
  },
  {
   "cell_type": "code",
   "execution_count": 14,
   "metadata": {},
   "outputs": [
    {
     "name": "stdout",
     "output_type": "stream",
     "text": [
      "   year                   host  tld\n",
      "0  2020             gbimkd.org  org\n",
      "1  2020    116.124.219.2:55737   ip\n",
      "2  2020      www.ticketshd.com  com\n",
      "3  2020  thefiercevagabond.com  com\n",
      "4  2020      175.10.51.6:57578   ip\n",
      "5  2020      www.hintup.com.br   br\n",
      "6  2020          ondigital.one  one\n",
      "7  2020            hdgarden.vn   vn\n",
      "8  2020    115.56.159.28:57022   ip\n",
      "9  2020          www.lixko.com  com\n"
     ]
    }
   ],
   "source": [
    "testdata= urls[[\"year\",\"host\"]].head(10)\n",
    "\n",
    "#print(testdata)\n",
    "\n",
    "testdata[\"tld\"] = testdata[\"host\"].str.split(\".\").str[-1]\n",
    "\n",
    "#print(testdata)\n",
    "\n",
    "filter = testdata[\"tld\"].str.contains(\":\")\n",
    "\n",
    "\n",
    "\n",
    "testdata.loc[filter,\"tld\"] = \"ip\"\n",
    "\n",
    "print(testdata)\n",
    "\n",
    "\n",
    "\n",
    "\n"
   ]
  },
  {
   "cell_type": "markdown",
   "metadata": {},
   "source": [
    "Now that I've testing code on a subset of data, will apply to the full DB and previiew the data below"
   ]
  },
  {
   "cell_type": "code",
   "execution_count": 15,
   "metadata": {},
   "outputs": [
    {
     "name": "stdout",
     "output_type": "stream",
     "text": [
      "    year                    host  tld\n",
      "0   2020              gbimkd.org  org\n",
      "1   2020     116.124.219.2:55737   ip\n",
      "2   2020       www.ticketshd.com  com\n",
      "3   2020   thefiercevagabond.com  com\n",
      "4   2020       175.10.51.6:57578   ip\n",
      "5   2020       www.hintup.com.br   br\n",
      "6   2020           ondigital.one  one\n",
      "7   2020             hdgarden.vn   vn\n",
      "8   2020     115.56.159.28:57022   ip\n",
      "9   2020           www.lixko.com  com\n",
      "10  2020    surfboarddigital.com  com\n",
      "11  2020        srishtiherbs.com  com\n",
      "12  2020       unikaryapools.com  com\n",
      "13  2020   207.254.247.210:49250   ip\n",
      "14  2020    120.57.103.125:55379   ip\n",
      "15  2020      technicalashish.in   in\n",
      "16  2020  thespaceastronauts.com  com\n",
      "17  2020        sanghuangvip.com  com\n",
      "18  2020     117.242.211.7:40745   ip\n",
      "19  2020  nasabatam.bbtbatam.com  com\n"
     ]
    }
   ],
   "source": [
    "urls[\"tld\"] = urls[\"host\"].str.split(\".\").str[-1]\n",
    "\n",
    "filter = urls[\"tld\"].str.contains(\":\")\n",
    "\n",
    "urls.loc[filter,\"tld\"] = \"ip\"\n",
    "\n",
    "print(urls[[\"year\",\"host\",\"tld\"]].head(20))"
   ]
  },
  {
   "cell_type": "markdown",
   "metadata": {},
   "source": [
    "## Continuing efforts of data exploration and cleaning\n",
    "\n",
    "- Evaluate null values\n",
    "1. There isn't a lot of null values within the dataset. Most null values look to be in the threat column which will not tbe used for analysis. \n",
    "\n",
    "- Evaluate tags columns\n",
    "1. My initial thought would be to create a new table by year just containing the tags and their months\n",
    "2. I will use the split method to look for a \",\" than add the tag to the new table.\n",
    "\n",
    "- Final Comments\n",
    " - I've created seperate dataframes for each year with it's tags\n",
    "\n",
    " - I parsed through the tags column to create a frequency table for each year\n",
    " \n",
    " - I will then convert each frequency tables to a dataframe(for their year) to aid in sorting."
   ]
  },
  {
   "cell_type": "code",
   "execution_count": 49,
   "metadata": {},
   "outputs": [
    {
     "name": "stdout",
     "output_type": "stream",
     "text": [
      "Index(['id', 'date_added', 'url', 'url_status', 'threat', 'tags',\n",
      "       'urlhaus_link', 'reporter', 'year', 'month', 'host', 'tld'],\n",
      "      dtype='object')\n",
      "<class 'pandas.core.frame.DataFrame'>\n",
      "RangeIndex: 931755 entries, 0 to 931754\n",
      "Data columns (total 12 columns):\n",
      " #   Column        Non-Null Count   Dtype         \n",
      "---  ------        --------------   -----         \n",
      " 0   id            931755 non-null  int64         \n",
      " 1   date_added    931755 non-null  datetime64[ns]\n",
      " 2   url           931755 non-null  object        \n",
      " 3   url_status    931755 non-null  object        \n",
      " 4   threat        931698 non-null  object        \n",
      " 5   tags          931755 non-null  object        \n",
      " 6   urlhaus_link  931755 non-null  object        \n",
      " 7   reporter      931755 non-null  object        \n",
      " 8   year          931755 non-null  int64         \n",
      " 9   month         931755 non-null  object        \n",
      " 10  host          931755 non-null  object        \n",
      " 11  tld           931755 non-null  object        \n",
      "dtypes: datetime64[ns](1), int64(2), object(9)\n",
      "memory usage: 85.3+ MB\n",
      "None\n"
     ]
    }
   ],
   "source": [
    "#print(urls[\"tld\"].value_counts().head(20))\n",
    "\n",
    "print(urls.columns)\n",
    "\n",
    "print(urls.info())\n"
   ]
  },
  {
   "cell_type": "code",
   "execution_count": 113,
   "metadata": {},
   "outputs": [
    {
     "name": "stdout",
     "output_type": "stream",
     "text": [
      "{'AgentTesla': 1749, 'exe': 52620, 'None': 8980, 'elf': 60786, 'bashlite': 13963, 'gafgyt': 16350, 'zip': 8869, 'mirai': 32173, 'HawkEye': 516, 'iso': 24, 'Loki': 1081, 'img': 3, 'KPOTStealer': 46, 'AZORult': 1015, 'Trickbot': 1344, 'emotet': 45737, 'heodo': 41401, 'PredatorStealer': 427, 'CAN': 1220, 'Nemty': 4, 'Ransomware': 1876, 'downloader': 149, 'orcus': 8, 'CoinMiner': 175, 'doc': 25379, 'predator': 15, 'SystemBC': 29, 'Raccoon Stealer': 1, 'ServHelper': 24, 'Amadey': 25, 'CobaltStrike': 123, 'powershell': 48, 'geofenced': 3706, 'qbot': 174, 'Quakbot': 178, 'USA': 2170, 'vbs': 6327, 'IcedID': 540, 'BrushaLoader': 1214, 'POR': 2, 'vbs-in-zip': 1, 'Gozi': 5677, 'password': 1957, 'CZE': 28, 'ursnif': 912, 'QuasarRAT': 83, 'rat': 696, 'MetaMorfo': 28, 'CHL': 6, 'redirect': 276, 'opendir': 430, 'RTF': 316, 'NanoCore': 799, 'NetWire': 324, 'Hermes': 1, 'Task': 126, 'RaccoonStealer': 52, 'JPN': 39, 'JP': 1, 'Tinba': 134, 'ArkeiStealer': 206, 'RevengeRAT': 25, 'njRAT': 169, 'TrickbotLoader': 2, 'ZLoader': 1, 'AveMariaRAT': 36, 'ta505': 12, 'RemcosRAT': 911, 'remcos': 96, 'winrar': 45, 'AUS': 306, 'headersfenced': 70, 'NZL': 134, 'Sectigo': 13, 'signed': 52, 'zipx': 1, 'Formbook': 3092, 'BRA': 419, 'hajime': 4987, 'meterpreter': 6, 'epoch2': 18099, 'epoch1': 15454, 'epoch3': 2765, 'Smoke Loader': 97, 'Dreambot': 3464, 'excel': 31, 'Module': 10, 'autoit': 13, 'rar': 60, 'DEU': 527, 'Encoded': 211, 'ModernLoader': 2, 'sendsafe': 1, 'ursnif gozi': 1, 'Troldesh': 5053, 'houdini': 5, 'tsunami': 285, 'Xpertrat': 4, 'scriptlet': 5, 'encrypted': 11, 'msi': 284, 'avemaria': 50, 'Dridex': 163, 'lokibot': 206, ' geofenced': 1, 'dofoil': 3, 'ITA': 1143, 'gpzi': 16, 'sharik': 1, 'smokeloader': 23, 'Phoenix': 50, 'DanaBot': 324, 'darkrat': 13, 'Pushdo': 2, 'Raccoon': 12, 'Adwind': 325, 'jSocket': 102, 'Osiris': 21, 'JasperLoader': 21, 'xls': 31, 'GandCrab': 335, 'dll': 120, '#bitly-redirect': 1, '#md5:df0a6255b16f04dd4d7cc6ca99ce23ae': 1, 'predator the thief': 5, 'trick': 1, 'Oski': 1, 'Paradise-Ransomware': 1, 'maldoc': 5, 'GuLoader': 1, 'cobint': 2, 'RemoteManipulator': 4, 'IA': 2, 'LimeRAT': 1022, 'PsiXBot': 1, 'Ostap': 59, 'PowerShellEmpire': 6, 'POL': 1104, 'Vidar': 130, 'pem': 1, 'hta': 263, 'MASAD': 4, 'Qulab': 4, 'stealer': 260, 'hancitor': 58, 'Loda': 10, 'REvil': 1, 'PoshC2': 2, 'bash': 49, 'ddos': 466, 'MedusaHTTP': 32, 'Dharma': 7, 'jar': 403, 'shellcode': 6, 'wshrat': 6, 'MSHTA.exe': 1, 'Ngrok.io': 1, 'Powershell.exe': 1, 'vba': 1, 'Smominru': 4, 'glupteba': 34, 'builder': 1, 'BetaBot': 14, 'base64': 27, 'vbe': 6, 'Shade': 701, 'maze': 3, 'ace': 55, 'evasion': 6, 'CVE-2017-11882': 7, 'exploit': 72, '7z': 45, '#trickbot': 1, 'pptx': 1020, 'configuration': 3, 'ps1': 74, 'NetwireRAT': 1, 'xml': 4, 'injector': 2, 'trojan': 73, ' Qbot': 18, 'Qakbot': 32, 'Astaroth': 105, 'PowerEnum': 4, 'Locky': 3, 'Emotet Trickbot': 1, 'Luminosity': 1, 'orcusrat': 11, 'CannibalRAT': 1, 'Retefe': 3, 'ImminentRAT': 79, 'DridexLoader': 1, 'pyrogenic': 1, 'gzip': 6, 'js': 1306, 'Pony': 239, 'predator stealer': 1, 'arm': 2, 'golang': 2, 'dropper': 61, 'ftcode': 6, 'gz': 8, 'Dridex-loader': 7, 'IceID': 4, 'get': 1, 'NetSupport': 18, 'zipped-VBS': 47, 'stop': 1, 'prt': 2, 'BITS': 17, 'ramnit': 3, 'sLoad': 33, 'djvu': 5, 'ransom': 7, 'oita': 1, 'lnk-in-zip': 1, 'bitsadmin': 5, 'AsyncRAT': 8, 'imminentmonitor': 2, 'Cobalt strike': 1, 'upx': 294, 'Smokebot': 11, 'Hallaj': 2, 'tinynuke': 16, 'bladabindi': 12, '#maze #ransomware': 1, 'darkcomet': 12, 'TrojanedVNC': 1, 'Lazagne': 1, 'bokbot': 2, 'trg2': 1, 'Neurevt': 31, 'Qealler': 25, 'teambot': 3, 'EvilPony': 10, 'Tordal': 10, ' Gozi ISFB': 3, 'Changeup': 1, 'sc': 9, 'Riskware.Generic': 10, 'VMZeuS': 1, 'fbot': 9, 'geofecened': 1, 'lynx': 1, 'UserAgent': 3, 'DiamondFox': 12, 'js-in-zip': 1, 'Kutaki': 47, 'mz': 25, 'DigiCert': 2, 'MailPassView': 1, 'Buran': 8, 'Crasyhost': 1, 'Loader': 321, 'quasar': 13, 'Sarwent': 1, 'geofence': 1, 'MEX': 2, '#md5:9e78b730f7937873137c696ee3c3678b': 1, '#URL:http://bit.ly/2oOFnx2': 1, 'java': 365, 'payload': 18353, 'xlsx': 3, 'italy': 2, 'manabot': 11, 'RUS': 1351, 'phorpiex': 29, 'browserloot': 6, 'PredatorTheTief': 1, 'gootkit': 39, 'Netsupport-Dropper': 1, 'lnk': 34, 'predatorthethief': 8, 'script': 720, 'vb': 4, 'html': 4, 'nitol': 6, 'flawedammyy': 60, 'FlawedGrace': 1, 'get2': 2, 'headerfenced': 1, 'wsdl': 1, 'kovter': 2, 'keylogger': 159, 'dunihi': 7, 'zeus': 24, 'adb': 39, 'backdoor': 94, 'DCRS': 1, 'Kpot': 8, 'BGR': 134, 'rms': 5, 'bat': 32, 'largefile': 1, 'exxe': 5, 'infected': 1, ' emotet': 3, 'maria': 1, 'Redosdru': 17, 'stage2': 1568, 'mips': 1, 'arm7': 1, 'CoffeMokko': 1, 'Banload': 60, 'CVE-2018-15982': 1, 'flash': 2, 'Malvertising': 1, 'VNCStartServer': 1, 'docx': 17, 'Grandsteal': 6, 'racoon': 3, 'url': 17, 'jrat': 3, 'backconnect': 10, 'config': 16, 'vnc': 9, 'banker': 2, 'Phobos': 1, 'android': 8, 'apk ': 9, 'GBR': 61, '#DESKTOP-group': 1, '#md5:124a78c92b50af3bcfcba6daaae471db': 1, '#NanoCoreRAT': 1, 'scr': 37, 'clipbanker': 1, '#troldesh': 2, 'jse': 1, 'GlobalSign': 1, '#adware': 1, '#js': 2, '#Revizer': 1, '#ursnif': 281, 'Neutrino': 8, 'chthonic': 6, 'smoke': 5, 'razy': 7, 'hito': 44, 'cloudbot': 52, 'exe-to-msi': 16, 'mira': 2, 'fareit': 35, 'dat': 6, 'miner': 1195, ' cloudbot': 24, ' new malware': 24, 'xmrig': 14, 'ssh': 1, 'telnet': 1, 'ZTE': 1, 'gpon': 2, 'OrionLogger': 1, 'cloudDNS': 2, 'ECHOBOT': 14, 'GermanWiper': 1, 'Bladabindi.2907CDB7': 2, 'Perseus': 2, 'python': 73, 'RozenaA.E11BC8A5': 1, 'vbscript': 5, '#gootkit': 20, 'docm': 13, '#mekotio': 8, '#spy': 13, 'Thawte': 36, 'Win32.Sodinokibi ': 2, 'encode': 1, 'GermanWiper Ransomware': 1, 'Wiper': 1, 'Agent Tesla': 9, 'Gh0st': 10, 'pcrat': 11, ' gh0st': 1, 'rat gh0st pcrat': 1, 'macro': 2, 'word': 1, 'tvrat': 2, 'Sandiflux': 27, 'groundhog': 11, 'Sodinokibi': 12, 'Huawei': 10, 'dofloo': 5, 'batch': 1, 'aesddos': 4, 'ccattack': 1, 'revenge': 8, 'HawkExe': 1, 'Sodinokobi': 2, 'WarzoneRat': 1, 'PDF': 102, 'protected': 1, '#malware': 15, 'Tofsee': 3, 'JackPOS': 4, '#script': 2, 'IRCbot': 19, 'TUR': 4, ' nanocore': 3, 'Buterat': 7, 'ps': 9, 'leilakit': 1, 'Broken-Malware': 1, ' trickbot': 4, 'IPcamera': 7, '#fakealert': 1, 'nemucod': 6, 'magania': 9, 'baldr': 15, 'ddos.tf': 1, 'botnet': 2, 'Brazzzers': 9, 'squiblydoo': 5, 'KeyBase': 7, 'mana': 7, 'Golroted': 2, 'vjWorm': 6, 'acefile': 1, 'Aurora': 1, 'ghostrat': 2, 'younglotus': 4, 'Netwire RAT': 1, 'macros': 6, 'trinity': 7, '#nanocore': 1, 'txt': 2, '#pdf': 1, '#phishing': 1, 'flawedammy': 3, 'ursniff': 1, 'b64': 1, 'base64encoded': 1, '#ransomware #loocipher': 12, 'qrat': 1, 'virut': 1, 'FlawedAmmyyRAT': 13, 'KOR': 30, 'Kpot_Stealer': 1, 'malware': 13, 'jpg': 2, 'Globeimposter': 2, 'necurs': 1, 'cmd': 2, '#payload': 3, ' ursnif': 9, 'jsrat': 1, 'lzh': 2, 'gefenced': 1, 'Troldash': 4, '#downloader': 114, '#vbs': 110, 'URLzone': 14, '#sload': 1, 'FRA': 9, '#doc': 4, 'isrstealer': 9, 'min-headers': 63, 'Evrial': 1, 'ISR-Stealer': 1, '#geofenced': 5, 'dropperMD5:42c8580b04faa617c4229b09178945f5': 1, 'officepwd:tyu098': 1, 'ext': 1, '#ransomware': 4, '#gandcrab': 2, 'jscript': 3, 'md5:b9b24f77636610bc681ee6d9d5a6a4ec': 1, 'dropperMD5:4d114c857749454311b12b06dba88166': 1, 'Dreambot BG': 1, 'Metamorpfo': 1, '#image': 2, '#stego': 3, 'Nymaim': 256, 'Imminent': 14, 'Kronos': 1, 'FRA Spambot': 2, 'RIFT': 11, 'php': 2, 'hjamie': 129, 'hbot': 3, 'JBifrost': 24, '#mekioto': 5, 'compressed': 419, 'uue': 9, 'dropperMD5:b167027fc320528c0e991368a074598f': 1, '#azorult': 1, '#python #coinminer': 1, 'droppermd5:bea3ed2f917ef16e3e66b70981a7dcfb': 1, 'md5:341076ebc6b8f52943246d8dcb4d8ac3': 1, 'mac': 1, '#exfil': 1, '#ftp': 1, 'hawkey': 2, '#ita': 1, 'Krypton': 1, '#stenography': 2, '#ursnif #stenography #image': 1, 'haewkeye': 1, 'sora': 11, 'EmailStealer': 1, ' mirai': 3, 'Evader': 2, 'trolldesh': 1, 'ransomeware': 1, 'ex': 3, 'nakuma': 11, 'Bancos': 1, 'Spectre': 1, 'kaiten': 11, 'osx': 1, ' doc': 1, 'cve_2017_17215': 1, 'synbot': 6, 'andromeda': 43, 'AUT': 7, 'ISFB': 1, 'exew': 1, 'CHE': 1, 'word doc': 2, 'thief': 2, '#rat': 1, 'AlphaIRCBot': 1, ' epoch2': 3, ' exe': 4, 'PandaZeuS': 2, '#emotet': 2, 'migration': 1, '#adwind': 1, '#jrat': 1, 'SecurtyXploded': 1, 'CHN': 1, 'spyware noon': 1, 'com': 3, 'hijame': 1, '#elf': 10, '#mirai': 1, 'sh': 5, 'Gorgon': 1, 'Subaat': 1, 'Xtrat': 19, 'rtfdoc': 1, 'gadcrab': 1, 'cve-2016-6277 netgear': 1, 'tar': 11, 'javascript': 150, '@RawabiHolding': 2, 'apt33': 2, 'impersonation': 2, 'saudi arabia': 2, 'stego': 26, 'autoclose': 1, 'autoopen': 1, 'stage1': 120, 'Ocammy': 1, 'broken': 1, 'DualExtension': 1, 'obfuscated': 2, 'pastee.com': 1, 'mailharvester': 2, 'ammyy': 8, 'cybergate': 3, 'digitalocean': 1, 'hoho': 1, 'mht': 1, 'realtek': 1, 'stupid': 1, 'Cobalt': 114, 'Strike': 113, 'powersploit': 165, 'shell': 11, '#powershell': 1, 'v5.2': 1, 'unknown': 7, 'sourcecode': 699, 'linux': 8, 'perl': 8, 'cracked': 15, 'rdp': 8, 'scan': 8, 'spyware': 6, 'urnsif': 1, 'gomes': 2, '#jpg': 1, '#rus': 1, '2019': 1, ' 2019': 1, ' password': 1, 'agrent tesla': 1, 'wzoner': 1, 'zipped-JS': 274, 'BlueBot': 1, 'xmr': 33, 'megalodon': 40, 'Monitor': 3, 'Sonbokli': 3, 'Primarypass': 1, 'bifrost': 9, 'hacktool': 10, 'godzilla': 9, 'arkei': 24, 'builders': 2, 'maldocs': 2, 'packers': 2, 'panels': 2, 'payloads': 2, 'protectors': 2, 'malwaredb': 5, 'panel': 6, 'Seafko': 5, 'ini': 2, 'crasher': 1, 'joke': 1, 'rebooter': 1, 'obfuscation': 1, 'worm': 1, 'LameUpdater': 2, '#cve_2017_17215': 2, 'dogge': 1, '#linux': 8, '#tsunami': 9, '#elf #tsunami #malware': 1, 'ursnif italy': 27, 'stage3': 28, '.doc': 1, 'dark comet': 4, 'cryptographic': 7, 'steganographic': 7, 'Elknot': 1, 'Ganiw': 1, 'amazonprofile': 1, 'https://cofense.com/upgrades-delivery-support-infrastructure': 6, 'threatactor': 6, 'comrpessed': 3, 'cloaked': 1, 'magecart': 1, 'vawtrak': 4, 'port21': 1, 'scanner': 1, ' epoch1': 2, 'presfox': 2, 'malicious': 12, 'js-GhoLoader': 46, 'SocGholish': 46, 'CryptoMiner': 1, 'office': 2, 'agent': 1, 'https://otx.alienvault.com/pulse/5c5d5b477bf4ce2c5ff9cc72': 20, 'steganography': 20, 'Sp00ky Botnet': 11, 'dunhi': 6, 'H-Worm': 3, 'Parasite': 2, 'binary': 3, 'portable executables': 1, 'share': 4, 'infostealer': 8, 'zipped-exe': 48, 'ftp': 1, ' Keylogger': 1, 'Stage 2': 1, 'c2': 2, 'Fuerboos': 4, 'Trojan-Ransom.GandCrab downloader': 1, 'Trojan-Ransom.GandCrab': 1, ' compressed': 1, 'AgentTesl': 11, 'Ransomware.GandCrab': 47, 'Nocturnal': 1, 'exel': 1, 'hworm': 1, 'Macro-doc': 25, 'elf miner': 1, 'SpeakUp': 1, 'ThinkPHP': 1, 'Advanced': 1, 'UnknownMalware': 1, 'hiloti': 1, 'onedrive': 9, 'Cayosin Botnet': 2, 'nanocorer ': 1, '#exe': 1, '#formbook': 1, 'min-header': 1, 'packed': 4, 'Themida': 4, 'tempdownload': 1, 'proxy': 1, 'fakeflash': 1, 'player': 1, 'mimikatz': 2, 'Svirtu': 11, 'Password-protected': 3, 'apt32': 2, 'https://unit42.paloaltonetworks.com/tracking-oceanlotus-new-': 2, 'KerrDown': 2, 'OceanLotus': 2, 'sat35': 2, 'empire': 1, 'ser0131us': 1, 'shortcut': 1, 'Caminho': 1, 'formbok': 1, 'spreadsheet': 1, 'zipped-lnk': 20, 'bot': 1, 'Neutrino bot': 1, 'steWSS': 1, 'aced-js': 1, 'geofiltered': 2, 'zipped': 1, 'GrandCrab': 1, 'larry': 10, 'EBDP': 7, 'BlackShades': 1, 'emoter': 1, 'online': 1, 'Xorddos': 10, 'azarult': 1, 'RevCode': 1, 'adware': 5, 'installcore': 1, 'Upatre': 1, 'sinkhole': 1, 'auotit': 1, 'Saima Habib': 1, 'nanobot': 8, 'spy': 1, 'putty': 1, 'cab': 1, 'kowai': 11, 'Bitter RAT': 10, 'Patchwork': 6, 'sct': 6, 'NanaCore': 1, 'pe': 1, 'tsunamie': 18, 'Trojan Downloader': 4, 'block': 1, 'google': 1, 'Zahlung': 1, 'Troldesk': 1, 'LiteHTTP': 1, 'Macro-xls': 1, 'ee': 1, '2ndStage': 1, 'Bruteforcer': 1, ' Patchwork': 4, 'miral': 1, 'Valyria': 1, 'Ave Maria': 1, 'jeefo': 1, 'Xpert': 1, 'passwordstealer': 1, ' passwordstealer': 1, 'NDL': 1}\n"
     ]
    }
   ],
   "source": [
    "#2019 Creating a mask to allow me to filter data by year\n",
    "y19_bool = urls[\"year\"] == 2019\n",
    "y20_bool = urls[\"year\"] == 2020\n",
    "\n",
    "#This will filter using boolean mask created to only values of 2019 \n",
    "t_19 = urls[y19_bool]\n",
    "\n",
    "# This creates a series of only tag values for 2019\n",
    "tags_19 = t_19[\"tags\"]\n",
    "\n",
    "# Empty dict, to house tags. \n",
    "tag_freq_19 = {}\n",
    "\n",
    "#Because tags are in a list of a list, will need to loop through and parse list before adding to dictionary\n",
    "for t in tags_19:\n",
    "    split = t.split(\",\")\n",
    "    for s in split:\n",
    "        if s not in tag_freq_19:\n",
    "            tag_freq_19[s] = 1\n",
    "        else:\n",
    "            tag_freq_19[s] += 1\n",
    "            \n",
    "print(tag_freq_19)\n",
    "\n",
    "\n"
   ]
  },
  {
   "cell_type": "code",
   "execution_count": 114,
   "metadata": {},
   "outputs": [
    {
     "name": "stdout",
     "output_type": "stream",
     "text": [
      "{'doc': 27521, 'emotet': 32796, 'epoch2': 15629, '32-bit': 92972, 'arm': 13014, 'elf': 501657, 'heodo': 31264, 'mips': 79660, 'epoch1': 10578, 'exe': 49552, 'Mozi': 384226, 'AsyncRAT': 243, 'x86-32': 317, 'gafgyt': 13217, 'Loki': 893, 'opendir': 15060, 'dofoil': 49, 'Smoke Loader': 226, 'powershell': 115, 'Encoded': 1148, 'epoch3': 6324, 'encrypted': 6062, 'GuLoader': 6383, 'dll': 4975, 'njRAT': 1115, 'bashlite': 10255, 'shellscript': 1622, 'AveMariaRAT': 129, 'AgentTesla': 2518, 'Dridex': 2687, 'msi': 141, 'triumphloader': 3, 'RaccoonStealer': 173, 'None': 14248, 'Trickbot': 16662, 'mirai': 13123, 'TaurusStealer': 11, 'ddos': 844, 'RedLineStealer': 88, 'CoinMiner': 97, 'Tofsee': 2, 'Amadey': 770, 'CobaltStrike': 58, 'SystemBC': 16, 'hfs': 10, 'script': 296, '64-bit': 89, 'x86-64': 87, 'NetWire': 317, 'zip': 19793, 'VoidRAT': 11, 'Xpertrat': 9, 'Gozi': 8459, 'ISFB': 216, 'ursnif': 683, 'bat': 320, 'Quakbot': 14942, 'QuakBOT QBOT': 1, 'Njratgold': 24, 'SilentBuilder': 132, 'DDoS Bot': 1239, 'curriculo': 4, 'RemcosRAT': 295, 'QuasarRAT': 218, 'hajime': 958, 'SnakeKeylogger': 2, 'rat': 543, 'Raccoon': 32, 'Buerloader': 36, 'ModiLoader': 52, 'ArkeiStealer': 121, 'revenge': 126, 'AZORult': 317, 'scr': 25, 'Qakbot': 17084, 'qbot': 2882, 'tr02': 128, 'BR': 8, 'geofenced': 3802, 'atraps': 4, 'Formbook': 880, 'glupteba': 124, 'IcedID': 3529, 'bitrat': 51, 'vbs': 2449, 'Matiex': 25, 'orcusrat': 18, 'ParallaxRAT': 13, 'RTF': 223, 'Troldesh': 9, 'Osiris': 3, 'ZLoader': 7097, 'ascii': 32, 'NanoCore': 357, 'Redosdru': 7, 'RemoteManipulator': 5, 'tsunami': 225, 'Zeppelin': 10, 'hta': 14, 'ficker': 10, 'hancitor': 23, 'ITA': 290, 'shathak': 2415, 'TA551': 2371, 'ta505': 117, 'Valak': 419, 'USA': 1521, 'MassLogger': 339, 'lokibot': 98, 'excel': 67, 'jpg': 6, 'php': 10, 'rob23': 1, 'md5:4a1cefe4959f204a03cc3d3cebfc4398': 1, 'stealer': 30, 'apk ': 471, 'APT': 7, 'GoldenMouse': 2, 'Raddex': 2, 'Buer': 3, 'avemaria': 24, 'Phoenix': 2, 'FickerStealer': 15, 'isrstealer': 2, 'HawkEye': 50, 'remcos': 68, 'WarzoneRat': 2, 'BlackNET': 1, 'SUNBURST': 1, 'opendirr': 4, 'lnk': 2, 'finderbot': 3861, 'mekotio': 54, 'FakeCop': 93, 'spy': 31, 'Vadokrist': 2, 'IRCbot': 4, 'csirt.cz': 11, 'png': 7, 'Loader': 58, 'botnet': 29, 'demon': 14, 'macro': 5, 'malware': 52, 'from pps': 3, 'QNodeService': 12, 'sLoad': 40, 'js': 42, 'sendsafe': 1, 'xls': 6707, 'rar': 12, ' shathak': 1, 'src_md5:6412c340c80add7936101b9514918fdd': 1, 'phishingkit': 1, 'linux': 4, 'DRDO': 5, 'India': 5, 'shathack': 1, 'img': 10, 'bladabindi': 2, 'VelvetSweatshop': 6, 'jar': 78, 'Pegasus': 1, 'Ransomware': 28, 'pw:1356 pwd:1356': 1, 'signed': 6, 'gootkit': 4, 'pwd:1356': 2, 'link-in-PDF': 1, 'lha': 1, 'domain': 11, 'smokeloader': 49, 'Ostap': 109, 'miner': 80, 'xmr': 5, 'younglotus': 10, 'geofecened': 1, 'Trojan.TR/Shelma.yepni (F-Secure)': 1, 'Program:Win32/Wacapew.C!ml (Microsoft)': 1, 'pwd:1347': 1, 'docusign': 1, 'macros': 2, 'hiddenmacro': 1, 'tr01': 75, 'bash': 34, 'remcos rat': 9, '.zip': 29, 'PW:1343': 1, '.jar': 4, '.ace': 1, 'gelrstyysayt_net': 3, 'SilentNight': 1, 'Silent_Night': 1, '404KeyLogger': 26, 'gzip': 1, 'md5:138d6c33202df585a505088c409d6674': 3, 'shortener-redirect': 1, 'italy': 38, 'RemoteKeyLogger': 6, 'Mozi.a': 1, 'Cerberus': 100, 'shell': 7, 'Dharma': 2, '170.106.35.220': 8, 'ShadowVoice': 1, 'ps1': 13, 'REvil': 21, 'Sodinokibi': 119, 'Banker/OneShoot': 1, 'Smokebot': 49, 'AutoHotkey': 14, 'downloader': 8, 'mimikatz': 8, 'tar3': 2, 'rob6': 1, 'pwd:1339': 4, 'password': 1946, 'Qealler': 56, 'AgenTesla': 9, 'multa': 4, 'Lime-RAT': 6, 'brt': 2, 'AgentTesl': 1, 'xlsb': 5, 'smoke bot': 1, 'iso': 8, 'Warzone RAT': 16, 'ocx': 1, 'Gozi3': 2, 'Banload': 5, 'ESP': 1526, 'pwd:1335': 3, 'ace': 16, 'JPN': 11, 'phorpiex': 69, 'wshrat': 31, 'obfuscation': 1, 'genfenced': 1, ' Zeppelin': 7, 'Buran': 8, 'RegretLocker': 1, 'bazaloader': 278, 'BazarLoader': 10, 'tvrat': 7, '7z': 55, 'FalloutEK': 3, 'PseudoGate': 3, 'BrickerBot': 1, 'AArch64': 1, 'Coringa': 6, 'ursa': 2, 'xlsm': 3, 'PowerShellEmpire': 120, 'LimeRAT': 9, 'RevengeRAT': 107, 'abc023': 3, 'Riskware.Generic': 17, 'botnetofthings': 10, 'KeyBase': 4, 'Adoo': 2, 'TESLOGISTIK': 2, 'groundhog': 29, 'pyrogenic': 5, 'docm': 3, 'CAN': 201, 'anti-bot': 1, 'password:777': 4, 'Spain': 2, 'RumikonLLC': 1, 'Xtreme': 1, 'jse': 1, 'FakeSpy': 19, 'goefenced': 2, 'urnsif': 4, 'RedLineRAT': 2, 'Pony': 47, 'MOQHAO': 9, 'meterpreter': 461, 'cab': 73, 'vbe': 2, 'mediafire': 3, 'trojan': 28, 'steganography': 5, 'Grina LLC': 2, 'Racealer': 2, 'abc015': 5, 'mriai ': 11, 'dl': 1, 'abc014': 1, 'geofecend': 1, 'TR': 3, 'phsihing': 1, 'spam': 1, 'elfi': 1, 'iran hacker': 1, 'SeafKoAgent': 9, 'recmos': 2, 'remcos_rat': 2, 'Grandoreiro': 9, 'tinynuke': 2, 'VirusRat': 1, ' doc': 2, 'cybergate': 3, 'anubis': 76, 'banker': 4, 'brazil': 2, 'ousaban': 1, 'predator': 26, ' 2020-0-23': 1, 'abc007': 1, 'pw 1319': 1, 'kinsing': 84, 'java': 6, 'rootkit': 6, ' rat': 1, 'maldoc': 2, 'discord': 2, 'DLL.': 10, 'Urnsnif': 1, 'darkcomet': 7, 'abc005': 1, 'qbot qakbot quakbot abc005 xls': 1, 'lampion': 18, 'PDF': 2, 'mrblack': 1, 'nankasa.com.ar': 2, 'IceID': 70, ' abc004': 1, ' Qbot': 19, 'NetwireRAT': 4, 'bazar': 3, 'abc003': 1, '7zip': 1, ' excel': 1, 'xlam': 1, 'ono74': 1, 'redirect': 1, 'jSocket': 4, 'meterpreterx86': 1, ' 32-bit': 1, 'kinsig': 15, 'Dreambot': 195, 'GBR': 60, 'opnedir': 1, 'ono72': 103, 'abc001': 14, ' ta505': 1, 'phishing': 2, 'BetaBot': 2, 'Neurevt': 30, 'smoke': 2, 'jawsscan': 7, 'bot': 5, 'irc': 1, 'perl': 5, 'skids': 7, 'c2portis666telnet': 8, 'Josho': 8, 'DBatLoader': 3, 'Adwind': 49, 'duckdns': 17, 'DEU': 163, 'spx164': 15, 'vawtrak': 2, 'Phobos': 3, 'ono70': 2089, 'MassloggerDropper': 1, '': 98, 'cryptomining': 1, 'post-exploitation': 1, 'bat1k3': 1, 'spx162': 9, 'get2': 20, 'Yakuza': 9, 'CrimsonRAT': 6, 'GandCrab': 62, 'sdbot': 1, ' 2020-08-26': 1, 'Dinihou': 1, 'gz': 23, 'infostealer': 3, ' spx161': 2, 'ono66': 1415, 'LuminosityLink': 2, 'xlsx': 3, ' 2020-08-21': 1, 'Agent Tesla': 5, 'spx157': 11, 'spx158': 11, 'exe agenttesla': 1, 'nemesis': 1, '#ddos': 1, '#trojan': 1, 'Kpot': 7, 'upx': 188, 'spx156': 10, 'ZeroShell': 1, 'XOR.DDoS': 151, 'ee': 1, 'spx155': 10, 'ono62': 17, 'Amavaldo': 1, 'po1': 4, 'spx154': 6, 'Mateix': 2, 'LeetHozer': 4, 'ono57': 540, 'spx153': 6, 'chil92': 1, 'iced': 1, 'us': 31, 'spx152': 6, ' SPX152': 1, 'spx151': 12, 'Scylla': 23, 'COVID-19': 2, 'ono61': 1049, 'JsPersistence': 3, 'spx150': 5, 'mshta': 1, '#ZLoader': 5, 'spx149': 2, 'c2': 2, 'spx148': 4, 'docx': 10, 'RemocsRAT': 1, 'ono60': 1, 'spx147': 40, 'chil84': 1, 'Phishing email attachement': 1, 'Oski': 2, 'Vidar': 151, 'lib779': 1, 'hex': 6, 'Linux.Flooder': 1, 'dcrat': 3, 'FormBootk': 1, 'mor33': 1, 'Miancha': 1, 'chill77': 1, 'chil77': 1, 'scriptshell': 1, 'chthonic': 2, ' Chil77': 1, 'Valek': 4, 'chil76': 1, 'MetaMorfo': 25, 'ftp': 1, 'Taurus': 8, 'backdoor': 9, 'pw7777': 1, 'ua-wget': 5, 'Kaspersky': 1, 'BigIP': 1, 'F5 exploit': 1, 'NetSupport': 12, 'chil73': 7, 'chil72': 4, 'memz': 1, 'chil70': 7, 'chil69': 1, 'hex-encoded': 1, 'fbot': 16, ' 2020-07-14': 2, 'maze': 1, 'builder': 1, 'python': 1, ' njRat': 1, 'noon': 3, 'PWS': 3, 'AUS': 8, 'chil65': 8, 'poweshell': 1, 'chil63': 2, 'chil62': 3, 'Ramcos': 1, ' 2020-07-08': 1, 'mirai-like': 22, 'DanaBot': 27, 'chil61': 3, 'avaddon': 6, '32 -bit': 11, 'bins': 11, ' zip': 1, 'ars': 1, 'CVE-2017-11882': 2, 'CVE-2020-5902': 1, 'F5Network': 1, 'hidden-tear': 1, 'Plasma': 1, 'ssh-honeypot': 1, 'mirai botnet': 11, 'quasar': 3, 'ddosbot': 1, 'gpon': 11, 'Huawei': 11, 'ImminentRAT': 4, '7777': 1, 'KPOTStealer': 26, 'UK': 1, 'encrypted_binary': 3, ' chil50': 1, 'ANT': 1, 'geofened': 1, 'orcus': 2, 'elf.ddos': 1, 'Ratty': 1, 'RedLine': 2, 'nVpn': 1, 'netwalker': 2, 'apk Fakecop': 1, 'mad34': 47, 'SocGholish': 1, 'mad33': 17, 'nishang': 2, 'PowerPC': 1, 'spx145': 5, 'reCAPTCHA': 1, 'hoaxcalls': 34, 'XTC': 11, 'encoded_binary': 1, ' SPX144': 1, 'spx143': 124, 'spx142': 110, 'javaapplet': 2, 'encrypt': 1, 'android': 4, 'AVTECH-IPCamera': 12, 'ssh-exploit': 12, 'CHL': 19, 'spx141': 101, ' 2020-06-16': 1, ' 2020-06-15': 4, 'docker': 3, 'cryptbot': 3, 'Kaiji': 13, 'PlugX': 3, 'spx139': 2, 'chil28': 1, 'spx138': 5, 'BlackShades': 10, 'ares': 6, 'mad30': 59, 'spx135': 13, 'nitol': 12, 'bin': 12, 'skid': 1, ' exe': 2, 'POL': 2, 'pem': 2, 'soft_sig: mad29': 95, ' Razy': 1, 'Ursni': 1, 'dll sideloading': 1, 'mustang panda': 1, 'ECHOBOT': 11, 'Bitcoin Miner': 1, 'spx132': 5, 'spx131': 61, '#advertising': 1, '#malware': 1, 'BRA': 1, 'spx130': 7, 'likibot': 1, 'dupzom': 1, 'arcane': 1, 'g0d5nip3r': 1, 'Valak Malware': 1, 'spx129': 87, ' ISFB': 1, 'racoon stealer': 1, 'gtag jim734': 2, 'encoded binary': 1, 'gtag tot734': 1, 'gtag lib734': 1, 'delf': 1, 'anti-analysis': 1, 'obfuscated': 1, 'spx128': 68, 'backconnect': 1, 'base64': 9, 'related': 2, ' Quakbot': 1, 'spx127': 7, 'spx126': 41, 'evil-pony': 5, 'Downloader.Pony': 12, 'ServHelper': 4, 'apk Cerberus': 1, 'gtag: da1': 1, 'gtag: da2': 1, 'gtag: da3': 1, 'spx125': 16, 'spx124': 3, 'lucifer': 8, 'spx123': 5, 'RacoonStealer': 1, 'gelup': 1, 'ifsb': 1, 'spx122': 35, 'spx121': 20, 'Bruteforcer': 3, 'OzoneRAT': 1, 'zmap': 1, 'spx120': 21, 'spx119': 21, 'loli_ddos_bot': 1, '#sha256:450A09FA7A12BA5657911F3C1028ABBCBC1FD47177305DAB3EF2': 1, 'CHE': 47, 'spx117': 48, 'spx118': 38, 'sxp118': 6, ' 2020-05-13': 1, 'Parallax': 10, 'viktor': 3, 'Locky': 2, 'darkrat': 2, 'AveMairaRAT': 1, 'jaws': 2, '#android #banker #malware #ramadan': 10, 'spx116': 6, 'encrpyted': 2, 'spx115': 30, ' 2020-05-07': 1, 'spx114': 103, ' payload': 7, 'stage2': 28, ' CHL': 2, 'payload': 22, ' 2020-05-05': 1, 'spx112': 62, 'spx113': 22, 'DiamondFox': 4, 'spx111': 5, 'spx110': 40, 'bankbot': 1, 'spx109': 175, 'md5:949c27be17c3828e6f4109056980fad3': 2, 'kovter': 1, '#suspectedFakeSpy': 1, 'spx108': 5, 'spx107': 6, 'spx106': 6, 'spx105': 53, 'sxp105': 42, 'latentbot': 1, 'DridexLoader': 8, 'Tinba': 4, 'vba': 3, 'spx104': 56, 'XOR_89B71B41': 1, 'encrpytyed': 1, 'spx103': 36, 'shellbot': 1, 'md5:8bf019f3473aae29b75639960bc4d5cb': 1, 'spx102': 31, ' 2020-04-22': 2, 'revengeraat': 1, 'Mirai XTC': 4, 'blackout': 2, 'reverse': 1, 'GuLoader payload': 1, 'Neutrino': 4, 'spx101': 134, 'unknown': 2, 'spx100': 62, 'browser': 1, 'extension': 1, 'ono38': 1, 'spx99': 77, 'spx98': 61, 'COVID': 3, 'spx97': 124, 'Xtrat': 1, 'spx96': 100, ' 2020-04-14': 1, 'banking bot': 2, 'spx95': 68, 'hito': 3, '#503': 1, 'pss1': 1, ' AgentTesla': 1, 'terdot': 1, '.vbs': 28, 'Shade': 1, 'Retefe': 1, 'jrat': 1, 'Ransomware.Phobos': 1, 'spx89': 4, 'vbot': 21, 'Casbaneiro': 4, 'password 12345': 3, 'gluteba': 2, 'gh0st Rat': 4, 'Ghost Rat': 1, 'ddod': 1, 'compressed': 2, 'stage1': 6, 'cmd': 1, 'unrecom ': 1, 'Additional': 1, 'md5:dd76eace9d47c52b4ca51c10cfaa587c': 1, 'emcrypted': 1, 'PoshC2': 5, 'Raaloader': 1, 'mirai iot': 1, 'iot': 1, 'mira': 1, 'mir': 4, 'encrytpted': 1, ' MetaMorfo': 1, 'Encrypted Mal-Doc': 1, 'keylogger': 1, 'fareit': 13, 'autoit': 6, 'CA': 9, 'password:7777': 3, 'extreme': 1, 'de': 47, ' Drambot': 18, ' ursnif': 18, 'JP': 18, '#netwire': 1, '#src': 1, '#zip': 1, 'PsiXBot': 3, 'fraud': 1, 'scam': 1, 'Nemty': 5, 'ave': 2, 'razy': 1, 'zeus': 2, 'tar': 1, 'PredatorStealer': 6, 'ps': 2, 'dropper': 5, 'Crimson': 1, 'Guloader-Azorult': 1, 'Remcosa': 1, 'password_protected': 1, 'yahoyah': 1, ' 2020-02-28': 2, 'Loda': 2, 'BrushaLoader': 8, 'Azorultdropper': 1, 'plain': 1, 'karius': 2, 'note': 1, 'Kronos': 1, 'Parasite': 3, 'elf Mozi': 1, 'qrat': 1, 'netgear': 1, 'btcstealer': 1, 'urlencoded': 1, ' 2020-02-18': 2, ' 2020-02-17': 1, 'not executable': 1, 'Neshta': 2, 'wscript': 1, 'txt': 309, 'encode': 1, 'Valyria': 1, 'andromeda': 2, 'BEL': 2, 'FRA': 2, 'SDBbot': 2, 'encryptd': 2, 'Assassin': 3, 'Module': 4, 'config': 3, 'Task': 7, 'Ave Maria': 1, 'Dridexdropper': 2, 'Get2Downloader': 1, 'GetAndGo': 1, 'honeypot': 2, 'brushaloder': 1, 'empire': 1, 'Keitaro': 8, 'installer': 1, 'javascript': 1, 'Golroted': 2, 'MASAD': 1, 'ua-msi': 1, 'word2007': 31, 'NanocoreDropper': 1, 'varfenced': 1, 'encrypted VBscript': 1, 'ese': 13, 'data': 4, 'prt': 1, 'vjw0rm': 1, 'CryptoMiner': 1, 'IND': 5, 'Kutaki': 5, 'Sagent': 1, 'shitrix': 3, ' #elf': 1, '#bashlite': 1, '#gafgyt': 1, 'lunlayloo': 1, 'html': 1, 'CZE': 1, 'DigiCert': 2}\n"
     ]
    }
   ],
   "source": [
    "#This will filter using boolean mask created to only values of 2020\n",
    "t_20 = urls[y20_bool]\n",
    "\n",
    "# This creates a series of only tag values for 2020\n",
    "tags_20 = t_20[\"tags\"]\n",
    "\n",
    "# Empty dict, to house tags. \n",
    "tag_freq_20 = {}\n",
    "\n",
    "#Because tags are in a list of a list, will need to loop through and parse list before adding to dictionary\n",
    "for t in tags_20:\n",
    "    split = t.split(\",\")\n",
    "    for s in split:\n",
    "        if s not in tag_freq_20:\n",
    "            tag_freq_20[s] = 1\n",
    "        else:\n",
    "            tag_freq_20[s] += 1\n",
    "            \n",
    "print(tag_freq_20)\n"
   ]
  },
  {
   "cell_type": "code",
   "execution_count": 116,
   "metadata": {},
   "outputs": [
    {
     "name": "stdout",
     "output_type": "stream",
     "text": [
      "                  tag  count\n",
      "0          AgentTesla   1749\n",
      "1                 exe  52620\n",
      "2                None   8980\n",
      "3                 elf  60786\n",
      "4            bashlite  13963\n",
      "..                ...    ...\n",
      "749             jeefo      1\n",
      "750             Xpert      1\n",
      "751   passwordstealer      1\n",
      "752   passwordstealer      1\n",
      "753               NDL      1\n",
      "\n",
      "[754 rows x 2 columns]\n",
      "           tag  count\n",
      "0          doc  27521\n",
      "1       emotet  32796\n",
      "2       epoch2  15629\n",
      "3       32-bit  92972\n",
      "4          arm  13014\n",
      "..         ...    ...\n",
      "800    #gafgyt      1\n",
      "801  lunlayloo      1\n",
      "802       html      1\n",
      "803        CZE      1\n",
      "804   DigiCert      2\n",
      "\n",
      "[805 rows x 2 columns]\n"
     ]
    }
   ],
   "source": [
    "#New Dataframe of 2019 Tags\n",
    "tag19 = pd.Series(tag_freq_19).to_frame().reset_index()\n",
    "\n",
    "tag19.columns = [\"tag\",\"count\"]\n",
    "\n",
    "print(tag19)\n",
    "\n",
    "\n",
    "#New Dataframe of 2020 Tags\n",
    "\n",
    "tag20 = pd.Series(tag_freq_20).to_frame().reset_index()\n",
    "\n",
    "tag20.columns = [\"tag\",\"count\"]\n",
    "\n",
    "print(tag20)"
   ]
  }
 ],
 "metadata": {
  "kernelspec": {
   "display_name": "Python 3",
   "language": "python",
   "name": "python3"
  },
  "language_info": {
   "codemirror_mode": {
    "name": "ipython",
    "version": 3
   },
   "file_extension": ".py",
   "mimetype": "text/x-python",
   "name": "python",
   "nbconvert_exporter": "python",
   "pygments_lexer": "ipython3",
   "version": "3.8.5"
  }
 },
 "nbformat": 4,
 "nbformat_minor": 4
}
